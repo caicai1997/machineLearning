{
 "cells": [
  {
   "cell_type": "code",
   "execution_count": 102,
   "metadata": {},
   "outputs": [
    {
     "data": {
      "application/javascript": [
       "<!-- Ignore this block -->\n",
       "IPython.OutputArea.prototype._should_scroll = function(lines) {\n",
       "    return false;\n",
       "}"
      ],
      "text/plain": [
       "<IPython.core.display.Javascript object>"
      ]
     },
     "metadata": {},
     "output_type": "display_data"
    }
   ],
   "source": [
    "%%javascript\n",
    "<!-- Ignore this block -->\n",
    "IPython.OutputArea.prototype._should_scroll = function(lines) {\n",
    "    return false;\n",
    "}"
   ]
  },
  {
   "cell_type": "markdown",
   "metadata": {},
   "source": [
    "## Use housing data\n",
    "I have loaded the required modules. Pandas and Numpy. I have also included sqrt function from Math library.<br>\n",
    "I have imported division from future library. Remove this if the code is executed on Python 3. This import mimics behaviour of division operator of python 3 on python 2"
   ]
  },
  {
   "cell_type": "code",
   "execution_count": 103,
   "metadata": {},
   "outputs": [
    {
     "data": {
      "text/html": [
       "<div>\n",
       "<style>\n",
       "    .dataframe thead tr:only-child th {\n",
       "        text-align: right;\n",
       "    }\n",
       "\n",
       "    .dataframe thead th {\n",
       "        text-align: left;\n",
       "    }\n",
       "\n",
       "    .dataframe tbody tr th {\n",
       "        vertical-align: top;\n",
       "    }\n",
       "</style>\n",
       "<table border=\"1\" class=\"dataframe\">\n",
       "  <thead>\n",
       "    <tr style=\"text-align: right;\">\n",
       "      <th></th>\n",
       "      <th>home</th>\n",
       "      <th>nbhd</th>\n",
       "      <th>offers</th>\n",
       "      <th>sqft</th>\n",
       "      <th>brick</th>\n",
       "      <th>bedrooms</th>\n",
       "      <th>bathrooms</th>\n",
       "      <th>price</th>\n",
       "    </tr>\n",
       "  </thead>\n",
       "  <tbody>\n",
       "    <tr>\n",
       "      <th>0</th>\n",
       "      <td>1</td>\n",
       "      <td>nbhd02</td>\n",
       "      <td>2</td>\n",
       "      <td>1790</td>\n",
       "      <td>No</td>\n",
       "      <td>2</td>\n",
       "      <td>2</td>\n",
       "      <td>114300</td>\n",
       "    </tr>\n",
       "    <tr>\n",
       "      <th>1</th>\n",
       "      <td>2</td>\n",
       "      <td>nbhd02</td>\n",
       "      <td>3</td>\n",
       "      <td>2030</td>\n",
       "      <td>No</td>\n",
       "      <td>4</td>\n",
       "      <td>2</td>\n",
       "      <td>114200</td>\n",
       "    </tr>\n",
       "    <tr>\n",
       "      <th>2</th>\n",
       "      <td>3</td>\n",
       "      <td>nbhd02</td>\n",
       "      <td>1</td>\n",
       "      <td>1740</td>\n",
       "      <td>No</td>\n",
       "      <td>3</td>\n",
       "      <td>2</td>\n",
       "      <td>114800</td>\n",
       "    </tr>\n",
       "    <tr>\n",
       "      <th>3</th>\n",
       "      <td>4</td>\n",
       "      <td>nbhd02</td>\n",
       "      <td>3</td>\n",
       "      <td>1980</td>\n",
       "      <td>No</td>\n",
       "      <td>3</td>\n",
       "      <td>2</td>\n",
       "      <td>94700</td>\n",
       "    </tr>\n",
       "    <tr>\n",
       "      <th>4</th>\n",
       "      <td>5</td>\n",
       "      <td>nbhd02</td>\n",
       "      <td>3</td>\n",
       "      <td>2130</td>\n",
       "      <td>No</td>\n",
       "      <td>3</td>\n",
       "      <td>3</td>\n",
       "      <td>119800</td>\n",
       "    </tr>\n",
       "    <tr>\n",
       "      <th>5</th>\n",
       "      <td>6</td>\n",
       "      <td>nbhd01</td>\n",
       "      <td>2</td>\n",
       "      <td>1780</td>\n",
       "      <td>No</td>\n",
       "      <td>3</td>\n",
       "      <td>2</td>\n",
       "      <td>114600</td>\n",
       "    </tr>\n",
       "    <tr>\n",
       "      <th>6</th>\n",
       "      <td>7</td>\n",
       "      <td>nbhd03</td>\n",
       "      <td>3</td>\n",
       "      <td>1830</td>\n",
       "      <td>Yes</td>\n",
       "      <td>3</td>\n",
       "      <td>3</td>\n",
       "      <td>151600</td>\n",
       "    </tr>\n",
       "    <tr>\n",
       "      <th>7</th>\n",
       "      <td>8</td>\n",
       "      <td>nbhd03</td>\n",
       "      <td>2</td>\n",
       "      <td>2160</td>\n",
       "      <td>No</td>\n",
       "      <td>4</td>\n",
       "      <td>2</td>\n",
       "      <td>150700</td>\n",
       "    </tr>\n",
       "    <tr>\n",
       "      <th>8</th>\n",
       "      <td>9</td>\n",
       "      <td>nbhd02</td>\n",
       "      <td>3</td>\n",
       "      <td>2110</td>\n",
       "      <td>No</td>\n",
       "      <td>4</td>\n",
       "      <td>2</td>\n",
       "      <td>119200</td>\n",
       "    </tr>\n",
       "    <tr>\n",
       "      <th>9</th>\n",
       "      <td>10</td>\n",
       "      <td>nbhd02</td>\n",
       "      <td>3</td>\n",
       "      <td>1730</td>\n",
       "      <td>No</td>\n",
       "      <td>3</td>\n",
       "      <td>3</td>\n",
       "      <td>104000</td>\n",
       "    </tr>\n",
       "  </tbody>\n",
       "</table>\n",
       "</div>"
      ],
      "text/plain": [
       "   home    nbhd  offers  sqft brick  bedrooms  bathrooms   price\n",
       "0     1  nbhd02       2  1790    No         2          2  114300\n",
       "1     2  nbhd02       3  2030    No         4          2  114200\n",
       "2     3  nbhd02       1  1740    No         3          2  114800\n",
       "3     4  nbhd02       3  1980    No         3          2   94700\n",
       "4     5  nbhd02       3  2130    No         3          3  119800\n",
       "5     6  nbhd01       2  1780    No         3          2  114600\n",
       "6     7  nbhd03       3  1830   Yes         3          3  151600\n",
       "7     8  nbhd03       2  2160    No         4          2  150700\n",
       "8     9  nbhd02       3  2110    No         4          2  119200\n",
       "9    10  nbhd02       3  1730    No         3          3  104000"
      ]
     },
     "execution_count": 103,
     "metadata": {},
     "output_type": "execute_result"
    }
   ],
   "source": [
    "import pandas as pd\n",
    "import numpy as np\n",
    "from __future__ import division\n",
    "from math import sqrt\n",
    "\n",
    "\"\"\" File path change accordingly\"\"\"\n",
    "inputFilepath = \"data/house.csv\"\n",
    "\n",
    "\"\"\"Using default seperator\"\"\"\n",
    "housingData = pd.read_csv(inputFilepath)\n",
    "housingData.head(10)"
   ]
  },
  {
   "cell_type": "markdown",
   "metadata": {},
   "source": [
    "### TextEncoder\n",
    "\n",
    "Here the data is mix of numbers and text. Text value cannot be directly used and should be converted to numeric data.<br>\n",
    "For this I have created a function text encoder which accepts a pandas series. Text encoder returns a lookUp dictionary for recreating the numeric value for text value and encoded text vector.\n",
    "For encoding I have applied a lambda function that will return value from dictionary."
   ]
  },
  {
   "cell_type": "code",
   "execution_count": 104,
   "metadata": {
    "collapsed": true
   },
   "outputs": [],
   "source": [
    "\"\"\" Converts the text features into numeric values so that they can be used by \n",
    "the downstream algorithms. \n",
    "Accepts pandas series and returns lookup dictionary and encoded vector\"\"\"\n",
    "\n",
    "def textEncoder(textVector):\n",
    "    if type(textVector) == pd.core.series.Series:\n",
    "        \n",
    "        lookUpDictionary = {}\n",
    "        lookupValue = 1\n",
    "        for key in textVector.unique():\n",
    "            lookUpDictionary[key] = lookupValue\n",
    "            lookupValue +=1\n",
    "        \n",
    "        textVector = textVector.apply(lambda a: lookUpDictionary[a])\n",
    "        return lookUpDictionary,textVector\n",
    "            \n",
    "        \n",
    "    else:\n",
    "        raise TypeError(\"Expected a pandas series as an input\")   "
   ]
  },
  {
   "cell_type": "markdown",
   "metadata": {},
   "source": [
    "I have encoded nbhd and brick column using text encoder. The lookup dictionary is not used in downstream code. However any future predictions wil require text data to be encoded and hence I have provided the lookup dictionary."
   ]
  },
  {
   "cell_type": "code",
   "execution_count": 105,
   "metadata": {},
   "outputs": [
    {
     "data": {
      "text/html": [
       "<div>\n",
       "<style>\n",
       "    .dataframe thead tr:only-child th {\n",
       "        text-align: right;\n",
       "    }\n",
       "\n",
       "    .dataframe thead th {\n",
       "        text-align: left;\n",
       "    }\n",
       "\n",
       "    .dataframe tbody tr th {\n",
       "        vertical-align: top;\n",
       "    }\n",
       "</style>\n",
       "<table border=\"1\" class=\"dataframe\">\n",
       "  <thead>\n",
       "    <tr style=\"text-align: right;\">\n",
       "      <th></th>\n",
       "      <th>home</th>\n",
       "      <th>nbhd</th>\n",
       "      <th>offers</th>\n",
       "      <th>sqft</th>\n",
       "      <th>brick</th>\n",
       "      <th>bedrooms</th>\n",
       "      <th>bathrooms</th>\n",
       "      <th>price</th>\n",
       "    </tr>\n",
       "  </thead>\n",
       "  <tbody>\n",
       "    <tr>\n",
       "      <th>0</th>\n",
       "      <td>1</td>\n",
       "      <td>1</td>\n",
       "      <td>2</td>\n",
       "      <td>1790</td>\n",
       "      <td>1</td>\n",
       "      <td>2</td>\n",
       "      <td>2</td>\n",
       "      <td>114300</td>\n",
       "    </tr>\n",
       "    <tr>\n",
       "      <th>1</th>\n",
       "      <td>2</td>\n",
       "      <td>1</td>\n",
       "      <td>3</td>\n",
       "      <td>2030</td>\n",
       "      <td>1</td>\n",
       "      <td>4</td>\n",
       "      <td>2</td>\n",
       "      <td>114200</td>\n",
       "    </tr>\n",
       "    <tr>\n",
       "      <th>2</th>\n",
       "      <td>3</td>\n",
       "      <td>1</td>\n",
       "      <td>1</td>\n",
       "      <td>1740</td>\n",
       "      <td>1</td>\n",
       "      <td>3</td>\n",
       "      <td>2</td>\n",
       "      <td>114800</td>\n",
       "    </tr>\n",
       "    <tr>\n",
       "      <th>3</th>\n",
       "      <td>4</td>\n",
       "      <td>1</td>\n",
       "      <td>3</td>\n",
       "      <td>1980</td>\n",
       "      <td>1</td>\n",
       "      <td>3</td>\n",
       "      <td>2</td>\n",
       "      <td>94700</td>\n",
       "    </tr>\n",
       "    <tr>\n",
       "      <th>4</th>\n",
       "      <td>5</td>\n",
       "      <td>1</td>\n",
       "      <td>3</td>\n",
       "      <td>2130</td>\n",
       "      <td>1</td>\n",
       "      <td>3</td>\n",
       "      <td>3</td>\n",
       "      <td>119800</td>\n",
       "    </tr>\n",
       "    <tr>\n",
       "      <th>5</th>\n",
       "      <td>6</td>\n",
       "      <td>2</td>\n",
       "      <td>2</td>\n",
       "      <td>1780</td>\n",
       "      <td>1</td>\n",
       "      <td>3</td>\n",
       "      <td>2</td>\n",
       "      <td>114600</td>\n",
       "    </tr>\n",
       "    <tr>\n",
       "      <th>6</th>\n",
       "      <td>7</td>\n",
       "      <td>3</td>\n",
       "      <td>3</td>\n",
       "      <td>1830</td>\n",
       "      <td>2</td>\n",
       "      <td>3</td>\n",
       "      <td>3</td>\n",
       "      <td>151600</td>\n",
       "    </tr>\n",
       "    <tr>\n",
       "      <th>7</th>\n",
       "      <td>8</td>\n",
       "      <td>3</td>\n",
       "      <td>2</td>\n",
       "      <td>2160</td>\n",
       "      <td>1</td>\n",
       "      <td>4</td>\n",
       "      <td>2</td>\n",
       "      <td>150700</td>\n",
       "    </tr>\n",
       "    <tr>\n",
       "      <th>8</th>\n",
       "      <td>9</td>\n",
       "      <td>1</td>\n",
       "      <td>3</td>\n",
       "      <td>2110</td>\n",
       "      <td>1</td>\n",
       "      <td>4</td>\n",
       "      <td>2</td>\n",
       "      <td>119200</td>\n",
       "    </tr>\n",
       "    <tr>\n",
       "      <th>9</th>\n",
       "      <td>10</td>\n",
       "      <td>1</td>\n",
       "      <td>3</td>\n",
       "      <td>1730</td>\n",
       "      <td>1</td>\n",
       "      <td>3</td>\n",
       "      <td>3</td>\n",
       "      <td>104000</td>\n",
       "    </tr>\n",
       "  </tbody>\n",
       "</table>\n",
       "</div>"
      ],
      "text/plain": [
       "   home  nbhd  offers  sqft  brick  bedrooms  bathrooms   price\n",
       "0     1     1       2  1790      1         2          2  114300\n",
       "1     2     1       3  2030      1         4          2  114200\n",
       "2     3     1       1  1740      1         3          2  114800\n",
       "3     4     1       3  1980      1         3          2   94700\n",
       "4     5     1       3  2130      1         3          3  119800\n",
       "5     6     2       2  1780      1         3          2  114600\n",
       "6     7     3       3  1830      2         3          3  151600\n",
       "7     8     3       2  2160      1         4          2  150700\n",
       "8     9     1       3  2110      1         4          2  119200\n",
       "9    10     1       3  1730      1         3          3  104000"
      ]
     },
     "execution_count": 105,
     "metadata": {},
     "output_type": "execute_result"
    }
   ],
   "source": [
    "nbhdFeatureLookup, housingData['nbhd'] = textEncoder(housingData['nbhd'])\n",
    "brickFeatureLookup, housingData['brick'] = textEncoder(housingData['brick'])\n",
    "housingData.head(10)"
   ]
  },
  {
   "cell_type": "markdown",
   "metadata": {},
   "source": [
    "### SplitDataSet Procedure\n",
    "This method splits the dataset into trainset and testset based upon the trainSetSize value. For splitting the dataset, I am using pandas.sample to split the data. This gives me trainset. For testset I am calculating complement of the trainset. This I am doing by droping the index present in training set."
   ]
  },
  {
   "cell_type": "code",
   "execution_count": 106,
   "metadata": {
    "collapsed": true
   },
   "outputs": [],
   "source": [
    "\"\"\"Splits the provided pandas dataframe into training and test dataset\"\"\"\n",
    "def splitDataSet(inputDataframe, trainSetSize):\n",
    "    \n",
    "        trainSet = inputDataframe.sample(frac=trainSetSize)\n",
    "        testSet = inputDataframe.drop(trainSet.index)\n",
    "        return trainSet,testSet"
   ]
  },
  {
   "cell_type": "markdown",
   "metadata": {},
   "source": [
    "## 2. Choose those columns, which can help you in prediction i.e. contain some useful information. You can drop irrelevant columns. Give reason for choosing or dropping any column."
   ]
  },
  {
   "cell_type": "markdown",
   "metadata": {},
   "source": [
    "### generatePearsonCoefficient Procedure\n",
    "<img src=\"https://wikimedia.org/api/rest_v1/media/math/render/svg/f76ccfa7c2ed7f5b085115086107bbe25d329cec\" />\n",
    "For sample:-\n",
    "<img src = \"https://wikimedia.org/api/rest_v1/media/math/render/svg/bd1ccc2979b0fd1c1aec96e386f686ae874f9ec0\" />\n",
    "For selecting some features and for dropping others I am using Pearson's Coefficient. The value of Pearson's coefficient lies between [-1, 1] and tells how two features are related<br>\n",
    "<table>\n",
    "<tr><td>Strength of Association</td><td>Positive</td><td>Negative</td></tr><tr><td>Small</td><td>.1 to .3  </td><td>-0.1 to -0.3  </td></tr><tr><td>Medium</td><td>.3 to .5  </td><td>-0.3 to -0.5  </td></tr><tr><td>Large</td><td>.5 to 1.0 </td><td>-0.5 to -1.0  </td></tr></table>\n"
   ]
  },
  {
   "cell_type": "code",
   "execution_count": 107,
   "metadata": {
    "collapsed": true
   },
   "outputs": [],
   "source": [
    "\"\"\"Generate pearson's coefficient\"\"\"\n",
    "\n",
    "def generatePearsonCoefficient(A, B):\n",
    "    A_meanDiff = A - A.mean()\n",
    "    B_meanDiff = B - B.mean()\n",
    "    return ((A_meanDiff * B_meanDiff).sum())/(sqrt((\n",
    "        A_meanDiff * A_meanDiff).sum()) * sqrt((B_meanDiff * B_meanDiff).sum())) "
   ]
  },
  {
   "cell_type": "code",
   "execution_count": 108,
   "metadata": {},
   "outputs": [
    {
     "name": "stdout",
     "output_type": "stream",
     "text": [
      "Pearson's coefficient of corelation for nbhd and price is 0.490761628535\n",
      "Pearson's coefficient of corelation for offers and price is -0.313635882862\n",
      "Pearson's coefficient of corelation for sqft and price is 0.552982242555\n",
      "Pearson's coefficient of corelation for bedrooms and price is 0.52592605764\n",
      "Pearson's coefficient of corelation for bathrooms and price is 0.523257758186\n",
      "Pearson's coefficient of corelation for brick and price is 0.452816786191\n"
     ]
    }
   ],
   "source": [
    "\"\"\"Generate the value of pearson constant for all the features\"\"\"\n",
    "\n",
    "print(\"Pearson's coefficient of corelation for \"+\n",
    "      \"nbhd and price is \"+ str(generatePearsonCoefficient(housingData.nbhd,housingData.price)))\n",
    "\n",
    "print(\"Pearson's coefficient of corelation for \"+\n",
    "      \"offers and price is \"+ str(generatePearsonCoefficient(housingData.offers,housingData.price)))\n",
    "\n",
    "print(\"Pearson's coefficient of corelation for \"+\n",
    "      \"sqft and price is \"+ str(generatePearsonCoefficient(housingData.sqft,housingData.price)))\n",
    "\n",
    "print(\"Pearson's coefficient of corelation for \"+\n",
    "      \"bedrooms and price is \"+ str(generatePearsonCoefficient(housingData.bedrooms,housingData.price)))\n",
    "\n",
    "print(\"Pearson's coefficient of corelation for \"+\n",
    "      \"bathrooms and price is \"+ str(generatePearsonCoefficient(housingData.bathrooms,housingData.price)))\n",
    "\n",
    "print(\"Pearson's coefficient of corelation for \"+\n",
    "      \"brick and price is \"+ str(generatePearsonCoefficient(housingData.brick,housingData.price)))"
   ]
  },
  {
   "cell_type": "markdown",
   "metadata": {},
   "source": [
    "The value of Pearson's constant suggests that sqft, bedroom and bathroonm have strong corelation with price. Offers has a weak negative corelation and nbhd and brick has mediup corelation with price. I am keeping all the features as they have some corelation with the data."
   ]
  },
  {
   "cell_type": "markdown",
   "metadata": {},
   "source": [
    "# Visualizing the relation between the X and Y\n",
    "Here I have used subplots to plot different X features and their relation with Y."
   ]
  },
  {
   "cell_type": "code",
   "execution_count": 109,
   "metadata": {},
   "outputs": [
    {
     "data": {
      "image/png": "[encoded data removed]",
      "text/plain": [
       "<matplotlib.figure.Figure at 0x7f7193992890>"
      ]
     },
     "metadata": {},
     "output_type": "display_data"
    }
   ],
   "source": [
    "import matplotlib.pyplot as plt\n",
    "\n",
    "\"\"\"Set global rcParams for pyplotlib\"\"\"\n",
    "plt.rcParams[\"figure.figsize\"] = \"18,15\"\n",
    "\n",
    "figure, ((ax1, ax2), (ax3, ax4), (ax5, ax6))  = plt.subplots(3,2,sharey='none')\n",
    "\n",
    "ax1.plot(housingData.nbhd,housingData.price,\"ro\")\n",
    "ax1.grid()\n",
    "ax1.set_title(\"nbhd vs price\")\n",
    "\n",
    "\n",
    "ax2.plot(housingData.offers,housingData.price,\"ro\")\n",
    "ax2.grid()\n",
    "ax2.set_title(\"no of offers vs price\")\n",
    "\n",
    "ax3.plot(housingData.sqft,housingData.price,\"ro\")\n",
    "ax3.grid()\n",
    "ax3.set_title(\"sqft vs price\")\n",
    "\n",
    "ax4.plot(housingData.brick,housingData.price,\"ro\")\n",
    "ax4.grid()\n",
    "ax4.set_title(\"brick vs price\")\n",
    "\n",
    "ax5.plot(housingData.bedrooms,housingData.price,\"ro\")\n",
    "ax5.grid()\n",
    "ax5.set_title(\"no of bedrooms vs price\")\n",
    "\n",
    "ax6.plot(housingData.bathrooms,housingData.price,\"ro\")\n",
    "ax6.grid()\n",
    "ax6.set_title(\"bathrooms vs price\")\n",
    "\n",
    "\n",
    "plt.show()"
   ]
  },
  {
   "cell_type": "markdown",
   "metadata": {},
   "source": [
    "### gaussianSolverProcedure\n",
    "<b>Algorithm:-</b><br>\n",
    "<b>Step-1</b><br>\n",
    "Generate an augmented matrix.<br>\n",
    "<b>Step-2</b><br>\n",
    "Calculate pivot for a given column. Pivot is defined as a largest value in column following its index.<br>\n",
    "<b>Step-3</b><br>\n",
    "Place the piviot in the current row column.(Swap the row)<br>\n",
    "<b>Step-4</b><br>\n",
    "Make the value of other elements under pivot as zero. Use only row operations for this. Repeat this untill we get a upper triangular matrix.<br>\n",
    "<b>Step-5</b><br>\n",
    "Solve the upper trangular matrix using backward substitution.<br><br>\n",
    "\n",
    "The gaussian solver accepts two matrices A and B and tries to solve for x such that Ax = B\n"
   ]
  },
  {
   "cell_type": "code",
   "execution_count": 110,
   "metadata": {
    "collapsed": true
   },
   "outputs": [],
   "source": [
    "\"\"\"Method for solving system of linear equations using gaussian elimination method\"\"\"\n",
    "\n",
    "def gaussianSolver(A,B):\n",
    "    augmentedMatrix = np.hstack((A,B)) * 1.0\n",
    "    n = augmentedMatrix.shape[0]\n",
    "    for i in range(0, n):\n",
    "        \n",
    "        \"\"\"Set default pivot value as diagonal matrix \"\"\"\n",
    "        pivot = augmentedMatrix[i][i]\n",
    "        pivotRow = i\n",
    "        \n",
    "        \"\"\"Check for a bigger pivot value\"\"\"\n",
    "        for j in range(i+1, n):\n",
    "            if abs(augmentedMatrix[j][i]) > abs(pivot):\n",
    "                pivot = augmentedMatrix[j][i]\n",
    "                pivotRow = j\n",
    "                \n",
    "        \"\"\"If pivot has changed. Swap the rows\"\"\"\n",
    "        if pivotRow != i:\n",
    "            for j in range(0, n+1):\n",
    "                augmentedMatrix[pivotRow][j], augmentedMatrix[i][j] =  augmentedMatrix[i][j], augmentedMatrix[pivotRow][j]\n",
    "            \n",
    "        \"\"\"Make all the column values below pivot as zero by performing matrix row operations\"\"\"\n",
    "        for j in range(i+1, n):\n",
    "            op = -1 * (augmentedMatrix[j][i]/augmentedMatrix[i][i])\n",
    "            for k in range(0, n+1):\n",
    "                augmentedMatrix[j][k] = augmentedMatrix[j][k] + ( op * augmentedMatrix[i][k] )\n",
    "                \n",
    "    \"\"\" Backward substitution to get values for B\"\"\"            \n",
    "    beta = np.zeros(n)\n",
    "    for i in range(n - 1, -1,-1):\n",
    "        diff = 0\n",
    "        for k in range (i + 1, n):\n",
    "            diff = diff + (beta[k] * augmentedMatrix[i][k])\n",
    "        beta[i] = (augmentedMatrix[i][n] - diff)/augmentedMatrix[i][i]\n",
    "        \n",
    "\n",
    "    return beta"
   ]
  },
  {
   "cell_type": "markdown",
   "metadata": {},
   "source": [
    "### choleskyDecompositionSolver Procedure\n",
    "As per cholesky decomposition a positive definite matrix A can be represented as L.L<sup>T</sup> where L<sup>T</sup> is lower trangular matrix and L<sup>T</sup> is it's transpose.<br>\n",
    "Here L is called cholesky factor<br>\n",
    "The problem comes down to L.L<sup>T</sup>x = B<br>\n",
    "<img src=\"https://wikimedia.org/api/rest_v1/media/math/render/svg/abf826b0ffb86e190d432828d7485f52f618eaed\" />\n",
    "<img src=\"https://wikimedia.org/api/rest_v1/media/math/render/svg/bb5adc5916e0762b2eca921de3e70ccae9bd2999\" />\n",
    "\n",
    "<b>Algorithm:-</b><br>\n",
    "<b>Step-1</b><br>\n",
    "Initialize a zero matrix<br>\n",
    "<b>Step-2</b><br>\n",
    "Calculate L using the above formula. If calculating for a diagonal element then stop the procedure and move to calculate for next row. This will generate lower trangular matrix<br/>\n",
    "<b>Step-3</b><br>\n",
    "Calculate vector Y using forward substitution. LY = b<br>\n",
    "<b>Step-4</b><br>\n",
    "Calculate vector X using backward substitution.L*X  = Y<br>"
   ]
  },
  {
   "cell_type": "code",
   "execution_count": 111,
   "metadata": {
    "collapsed": true
   },
   "outputs": [],
   "source": [
    "\"\"\"Method for solving the system of linear equations using cholesky decomposition\"\"\"\n",
    "\n",
    "def choleskyDecompositionSolver(A, B):\n",
    "    \"\"\"Converting the matrix values to float\"\"\"\n",
    "    A = A * 1.0\n",
    "    B = B * 1.0\n",
    "    \n",
    "    n = A.shape[0]\n",
    "    if A.shape[0] == A.shape[1]:\n",
    "        \n",
    "        \"\"\"Generate cholesky factor\"\"\"\n",
    "        L = np.zeros(shape = A.shape)\n",
    "        for i in range(0, n):\n",
    "            for j in range (0, n):\n",
    "                L[i][j] = A[i][j]\n",
    "                \"\"\"Calculating diagonal elements\"\"\"\n",
    "                if i == j:\n",
    "                    for k in range(0, j):\n",
    "                        L[i][j] = L[i][j] - (L[i][k] * L[i][k])\n",
    "                    \n",
    "                    L[i][j] = sqrt(L[i][j])\n",
    "                    break;\n",
    "                \"\"\"Calculating non diagonal elements\"\"\"\n",
    "                product = 0\n",
    "                for k in range (0, j):\n",
    "                    product = product + (L[i][k] * L[j][k])                    \n",
    "                L[i][j] = (L[i][j] - product)/L[j][j]\n",
    "        \n",
    "        \"\"\"Solving the system of linear equation\n",
    "        Ax=b \n",
    "        A can be decomposed into LU such that\n",
    "        Ly=b \n",
    "        Ux=y \"\"\"\n",
    "        \n",
    "        \"\"\"Forward substitution\"\"\"\n",
    "        Y = np.zeros(n)\n",
    "        for i in range(0, n):\n",
    "            diff = 0\n",
    "            for k in range (i -1, -1, -1):\n",
    "                diff = diff + (Y[k] * L[i][k])\n",
    "            Y[i] = (B[i] - diff)/L[i][i]\n",
    "        \n",
    "        \"\"\"Backward substitution\"\"\"\n",
    "        beta = np.zeros(n)\n",
    "        U = L.T\n",
    "        for i in range(n - 1, -1,-1):\n",
    "            diff = 0\n",
    "            for k in range (i + 1, n):\n",
    "                diff = diff + (beta[k] * U[i][k])\n",
    "            beta[i] = (Y[i] - diff)/U[i][i]\n",
    "            \n",
    "        return beta\n",
    "    else:\n",
    "        raise ValueError(\"Matrix A is not symmetric\")"
   ]
  },
  {
   "cell_type": "markdown",
   "metadata": {},
   "source": [
    "### qrDecompositionSolver Procedure\n",
    "A matrix A can be represented as product of Q and R where Q is orthogonal matrix (Q<sup>T</sup>Q = QQ<sup>T</sup> = I) and R is upper triangular matrix.\n",
    "<img src = \"https://wikimedia.org/api/rest_v1/media/math/render/svg/4b845398dd7df51edc31561a612423b20a83eb04\" />\n",
    "<img src = \"https://wikimedia.org/api/rest_v1/media/math/render/svg/74356955f03f5c1171e9e812174a715eb112aef8\" />\n",
    "<br>QR decompsition can be done in four steps\n",
    "<ul><li>Calculation of orthogonal basis</li><li>Calculation of orthonormal</li><li>QR factor calculation</li><li>Solving system of linear equation</li></ul>\n",
    "<br>\n",
    "<b>Algorithm:-</b><br>\n",
    "<b>Step-1</b><br>\n",
    "Calculate orthogonal basis using gram Schmidt method. For first vector the value is itself. For subsequent vectors the orthogonalbasis is vector - projection on perviously calculated orthogonal basis\n",
    "<br><b>Step-2</b><br>\n",
    "For calculating orthonormal we divide orthogonal basis by magnitude of respective vectors\n",
    "<br><b>Step-3</b><br>\n",
    "Q = [orthonormalBasis]<br>\n",
    "R = Q<sup>T</sup>A\n",
    "<br><b>Step-4</b><br>\n",
    "For calculating the value of X in AX = B,<br>\n",
    "We calculate Y = Q<sup>T</sup>B<br>\n",
    "We solve RX = Y using backward substitution\n"
   ]
  },
  {
   "cell_type": "code",
   "execution_count": 112,
   "metadata": {
    "collapsed": true
   },
   "outputs": [],
   "source": [
    "\"\"\"QR decomposition can be done in three steps\n",
    "    1) Calculation orthogonal basis\n",
    "    2) Calculation orthonormal\n",
    "    3) QR factor calculation\"\"\"\n",
    "\n",
    "def qrDecompositionSolver(A, B):\n",
    "    A = A * 1.0\n",
    "    B = B * 1.0\n",
    "    \"\"\"Calculating the orthogonal basis\"\"\"\n",
    "    n = A.shape[1]\n",
    "    # Store deepcopy of A for processing\n",
    "    orthoBasis = np.array(A, copy = True)\n",
    "    \n",
    "    for i in range(1, n):\n",
    "        \"\"\"Calculate the projections\"\"\"\n",
    "        diff = 0\n",
    "        for j in range(i-1, -1, -1):\n",
    "            diff = diff + (np.dot(orthoBasis[:,i],\n",
    "                                  orthoBasis[:,j])/np.dot(orthoBasis[:,j],orthoBasis[:,j]))*orthoBasis[:,j]\n",
    "        orthoBasis[:,i] = orthoBasis[:,i] - diff\n",
    "    \n",
    "    \"\"\"Calculating orthonormal\"\"\"\n",
    "    for i in range(0, n):\n",
    "        orthoBasis[:,i] = orthoBasis[:,i]/np.sqrt(np.sum(np.square(orthoBasis[:,i])))\n",
    "        \n",
    "    \"\"\"QR factorization\"\"\"\n",
    "    Q = orthoBasis\n",
    "    R = np.dot(orthoBasis.T,A)\n",
    "    \n",
    "    \"\"\"Solving system of linear equation\"\"\"\n",
    "    B = np.dot(Q.T,B)\n",
    "    \n",
    "    \"\"\"Backward substitution\"\"\"\n",
    "    beta = np.zeros(n)\n",
    "\n",
    "    for i in range(n - 1, -1,-1):\n",
    "        diff = 0\n",
    "        for k in range (i + 1, n):\n",
    "            diff = diff + (beta[k] * R[i][k])\n",
    "        beta[i] = (B[i] - diff)/R[i][i]\n",
    "            \n",
    "    return beta\n",
    "    \n"
   ]
  },
  {
   "cell_type": "markdown",
   "metadata": {},
   "source": [
    "### learnLinregNormEq\n",
    "Solves system of linear equation in form of <br>\n",
    "X<sup>T</sup>XB = X<sup>T</sup>Y<br>\n",
    "Accepts three arguments X, Y and solver. Default value for solver is gaussianSolver"
   ]
  },
  {
   "cell_type": "code",
   "execution_count": 113,
   "metadata": {
    "collapsed": true
   },
   "outputs": [],
   "source": [
    "\"\"\"Method to learn linear regression using normal equations. Default solver is\n",
    "gaussian solver\"\"\"\n",
    "\n",
    "def learnLinregNormEq(X, Y, solver = gaussianSolver):\n",
    "    \n",
    "    if isinstance(X,np.ndarray) and isinstance(Y,np.ndarray):\n",
    "        if X.shape[0] != Y.shape[0]:\n",
    "            raise ValueError(\"The shape of X and Y is inconsistant\")\n",
    "\n",
    "        X = np.insert(X, 0, 1, axis=1)\n",
    "        \n",
    "        Xtranspose = X.T\n",
    "        XtX = np.dot(Xtranspose,X)\n",
    "        XtY = np.dot(Xtranspose,Y)\n",
    "        return solver(XtX, XtY)\n",
    "        \n",
    "        \n",
    "    else:\n",
    "        raise TypeError(\"Expected X and Y as numpy.ndarray\")"
   ]
  },
  {
   "cell_type": "markdown",
   "metadata": {},
   "source": [
    "### predictLinearRegression Procedure\n",
    "This method performs predicts the value for Y given X and model parameters. This method will add bias to X."
   ]
  },
  {
   "cell_type": "code",
   "execution_count": 114,
   "metadata": {
    "collapsed": true
   },
   "outputs": [],
   "source": [
    "\"\"\"Method to make prediction for yTest\"\"\"\n",
    "def predictionLinearRegression(X, modelParameters):\n",
    "    X = np.insert(X, 0, 1, axis=1)\n",
    "    yPrediction = np.dot(X,modelParameters.T)\n",
    "    return yPrediction "
   ]
  },
  {
   "cell_type": "markdown",
   "metadata": {},
   "source": [
    "### RMSE procedure\n",
    "Will calculate root mean squared error for given Ytrue values and YPrediction\n"
   ]
  },
  {
   "cell_type": "code",
   "execution_count": 115,
   "metadata": {
    "collapsed": true
   },
   "outputs": [],
   "source": [
    "\"\"\"Model accuracy estimator RMSE\"\"\"\n",
    "\n",
    "def RMSE(yTrue, yPrediction):\n",
    "    n = yTrue.shape[0]\n",
    "    return sqrt((1.0) * np.sum(np.square((yTrue - yPrediction))))/n"
   ]
  },
  {
   "cell_type": "markdown",
   "metadata": {},
   "source": [
    "# Solving the linear equations using gaussianSolver\n",
    "Here I am splitting the dataset into training and test set. For this I am using splitDataSet procedure with 80-20 split.<br>\n",
    "I have taken all the features."
   ]
  },
  {
   "cell_type": "code",
   "execution_count": 116,
   "metadata": {},
   "outputs": [
    {
     "name": "stdout",
     "output_type": "stream",
     "text": [
      "Total items in training set (102, 1)\n",
      "Total items in test set (26, 1)\n"
     ]
    }
   ],
   "source": [
    "trainSet,testSet = splitDataSet(housingData,0.8)\n",
    "\n",
    "Ytrain = trainSet.as_matrix(columns=['price'])\n",
    "Ytest = testSet.as_matrix(columns=['price'])\n",
    "\n",
    "print(\"Total items in training set \"+str(Ytrain.shape))\n",
    "print(\"Total items in test set \"+str(Ytest.shape))\n",
    "\n",
    "Xtrain = trainSet.as_matrix(columns = ['sqft','bedrooms','bathrooms','brick','nbhd','offers'])\n",
    "Xtest = testSet.as_matrix(columns = ['sqft','bedrooms','bathrooms','brick','nbhd','offers'])"
   ]
  },
  {
   "cell_type": "markdown",
   "metadata": {},
   "source": [
    "I am learning linear regression using default (Gaussian) solver. I am making predictions using predictionLinearRegression procedure. I am calculating the RMSE using RMSE procedure and average of residuals using mean."
   ]
  },
  {
   "cell_type": "code",
   "execution_count": 117,
   "metadata": {},
   "outputs": [
    {
     "name": "stdout",
     "output_type": "stream",
     "text": [
      "RMSE for gaussian solver is 1944.59119467\n",
      "Average residual for gaussian solver is -520.438844314\n"
     ]
    }
   ],
   "source": [
    "\"\"\"Learn model parameters using gaussian solver\"\"\"\n",
    "modelParamsGaussian = learnLinregNormEq(Xtrain, Ytrain)\n",
    "\"\"\"Make prediction using modelParams\"\"\"\n",
    "yPredictionGaussian = predictionLinearRegression(Xtest, modelParamsGaussian)\n",
    "\n",
    "\"\"\"Calulate RMSE\"\"\"\n",
    "print(\"RMSE for gaussian solver is \"+str(RMSE(Ytest.flatten(),yPredictionGaussian)))\n",
    "print(\"Average residual for gaussian solver is \"+str((Ytest.flatten() - yPredictionGaussian).mean()))"
   ]
  },
  {
   "cell_type": "code",
   "execution_count": 118,
   "metadata": {},
   "outputs": [
    {
     "data": {
      "image/png": "[encoded data removed]",
      "text/plain": [
       "<matplotlib.figure.Figure at 0x7f7193e9e490>"
      ]
     },
     "metadata": {},
     "output_type": "display_data"
    }
   ],
   "source": [
    "plt.plot(yPredictionGaussian - Ytest.flatten(), Ytest,\"ro\",label=\"ytest - ybar vs ytest\")\n",
    "plt.title(\"Plot for gaussian solver\")\n",
    "plt.xlabel(\"ytest - ybar\")\n",
    "plt.ylabel(\"ytest\")\n",
    "plt.show()"
   ]
  },
  {
   "cell_type": "markdown",
   "metadata": {},
   "source": [
    "# Solving the system of equations using Cholesky method"
   ]
  },
  {
   "cell_type": "code",
   "execution_count": 119,
   "metadata": {},
   "outputs": [
    {
     "name": "stdout",
     "output_type": "stream",
     "text": [
      "Total items in training set (102, 1)\n",
      "Total items in test set (26, 1)\n"
     ]
    }
   ],
   "source": [
    "trainSet,testSet = splitDataSet(housingData,0.8)\n",
    "\n",
    "Ytrain = trainSet.as_matrix(columns=['price'])\n",
    "Ytest = testSet.as_matrix(columns=['price'])\n",
    "\n",
    "print(\"Total items in training set \"+str(Ytrain.shape))\n",
    "print(\"Total items in test set \"+str(Ytest.shape))\n",
    "\n",
    "Xtrain = trainSet.as_matrix(columns = ['sqft','bedrooms','bathrooms','brick','nbhd','offers'])\n",
    "Xtest = testSet.as_matrix(columns = ['sqft','bedrooms','bathrooms','brick','nbhd','offers'])\n"
   ]
  },
  {
   "cell_type": "code",
   "execution_count": 120,
   "metadata": {},
   "outputs": [
    {
     "name": "stdout",
     "output_type": "stream",
     "text": [
      "RMSE for Cholesky solver is 1997.72656566\n",
      "Average residual for Cholesky solver is -3950.96105727\n"
     ]
    }
   ],
   "source": [
    "\"\"\"Learn model parameters using Cholesky solver\"\"\"\n",
    "modelParamsCholesky = learnLinregNormEq(Xtrain, Ytrain,choleskyDecompositionSolver)\n",
    "\"\"\"Make prediction using modelParams\"\"\"\n",
    "yPredictionCholesky = predictionLinearRegression(Xtest, modelParamsCholesky)\n",
    "\n",
    "\"\"\"Calulate RMSE\"\"\"\n",
    "print(\"RMSE for Cholesky solver is \"+str(RMSE(Ytest.flatten(),yPredictionCholesky)))\n",
    "print(\"Average residual for Cholesky solver is \"+str((Ytest.flatten() - yPredictionCholesky).mean()))\n"
   ]
  },
  {
   "cell_type": "code",
   "execution_count": 121,
   "metadata": {},
   "outputs": [
    {
     "data": {
      "image/png": "[encoded data removed]",
      "text/plain": [
       "<matplotlib.figure.Figure at 0x7f7193f54f90>"
      ]
     },
     "metadata": {},
     "output_type": "display_data"
    }
   ],
   "source": [
    "plt.plot(yPredictionCholesky - Ytest.flatten(), Ytest,\"bo\",label=\"ytest - ybar vs ytest\")\n",
    "plt.title(\"Plot for Cholesky solver\")\n",
    "plt.xlabel(\"ytest - ybar\")\n",
    "plt.ylabel(\"ytest\")\n",
    "plt.show()"
   ]
  },
  {
   "cell_type": "markdown",
   "metadata": {},
   "source": [
    "# Solving the system of equations using QR decomposition method"
   ]
  },
  {
   "cell_type": "code",
   "execution_count": 122,
   "metadata": {},
   "outputs": [
    {
     "name": "stdout",
     "output_type": "stream",
     "text": [
      "Total items in training set (102, 1)\n",
      "Total items in test set (26, 1)\n"
     ]
    }
   ],
   "source": [
    "trainSet,testSet = splitDataSet(housingData,0.8)\n",
    "\n",
    "Ytrain = trainSet.as_matrix(columns=['price'])\n",
    "Ytest = testSet.as_matrix(columns=['price'])\n",
    "\n",
    "print(\"Total items in training set \"+str(Ytrain.shape))\n",
    "print(\"Total items in test set \"+str(Ytest.shape))\n",
    "\n",
    "Xtrain = trainSet.as_matrix(columns = ['sqft','bedrooms','bathrooms','brick','nbhd','offers'])\n",
    "Xtest = testSet.as_matrix(columns = ['sqft','bedrooms','bathrooms','brick','nbhd','offers'])\n",
    "\n"
   ]
  },
  {
   "cell_type": "code",
   "execution_count": 123,
   "metadata": {},
   "outputs": [
    {
     "name": "stdout",
     "output_type": "stream",
     "text": [
      "RMSE for QR Decomposition solver is 2332.8317377\n",
      "Average residual for QR Decomposition solver is -1032.18894441\n"
     ]
    }
   ],
   "source": [
    "\"\"\"Learn model parameters using QR Decomposition solver\"\"\"\n",
    "modelParamsQR = learnLinregNormEq(Xtrain, Ytrain,qrDecompositionSolver)\n",
    "\n",
    "\"\"\"Make prediction using modelParams\"\"\"\n",
    "yPredictionQR = predictionLinearRegression(Xtest, modelParamsQR)\n",
    "\n",
    "\"\"\"Calulate RMSE\"\"\"\n",
    "print(\"RMSE for QR Decomposition solver is \"+str(RMSE(Ytest.flatten(),yPredictionQR)))\n",
    "print(\"Average residual for QR Decomposition solver is \"+str((Ytest.flatten() - yPredictionQR).mean()))"
   ]
  },
  {
   "cell_type": "code",
   "execution_count": 124,
   "metadata": {},
   "outputs": [
    {
     "data": {
      "image/png": "[encoded data removed]",
      "text/plain": [
       "<matplotlib.figure.Figure at 0x7f71936df1d0>"
      ]
     },
     "metadata": {},
     "output_type": "display_data"
    }
   ],
   "source": [
    "plt.plot(yPredictionQR - Ytest.flatten(), Ytest,\"go\",label=\"ytest - ybar vs ytest\")\n",
    "plt.title(\"Plot for QR decomposition solver\")\n",
    "plt.xlabel(\"ytest - ybar\")\n",
    "plt.ylabel(\"ytest\")\n",
    "plt.show()"
   ]
  }
 ],
 "metadata": {
  "kernelspec": {
   "display_name": "Python 2",
   "language": "python",
   "name": "python2"
  },
  "language_info": {
   "codemirror_mode": {
    "name": "ipython",
    "version": 2
   },
   "file_extension": ".py",
   "mimetype": "text/x-python",
   "name": "python",
   "nbconvert_exporter": "python",
   "pygments_lexer": "ipython2",
   "version": "2.7.12"
  }
 },
 "nbformat": 4,
 "nbformat_minor": 2
}
